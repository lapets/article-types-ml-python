{
 "cells": [
  {
   "cell_type": "markdown",
   "metadata": {
    "slideshow": {
     "slide_type": "slide"
    }
   },
   "source": [
    "# Types, Monads, and Machine Learning in Python"
   ]
  },
  {
   "cell_type": "markdown",
   "metadata": {
    "slideshow": {
     "slide_type": "fragment"
    }
   },
   "source": [
    "A declarative programming approach involves defining structures and describing transformations on those structures in an equational way. Using a declarative approach to implement a solution can have a number of benefits:\n",
    "\n",
    "* the implementation is likely to be concise;\n",
    "* it may be easier to quickly explore trade-offs between optimality and performance; and\n",
    "* it may be easier to to store and later restart partial solutions.\n",
    "\n",
    "In this article we will present a number of declarative Python solutions to a well-known optimization problem and illustrate how some of the above benefits may be realized. "
   ]
  },
  {
   "cell_type": "markdown",
   "metadata": {
    "slideshow": {
     "slide_type": "slide"
    }
   },
   "source": [
    "## Dependencies"
   ]
  },
  {
   "cell_type": "code",
   "execution_count": 259,
   "metadata": {
    "slideshow": {
     "slide_type": "skip"
    }
   },
   "outputs": [
    {
     "ename": "ImportError",
     "evalue": "cannot import name 'np'",
     "output_type": "error",
     "traceback": [
      "\u001b[0;31m---------------------------------------------------------------------------\u001b[0m",
      "\u001b[0;31mImportError\u001b[0m                               Traceback (most recent call last)",
      "\u001b[0;32m<ipython-input-259-4ed563a2946a>\u001b[0m in \u001b[0;36m<module>\u001b[0;34m()\u001b[0m\n\u001b[1;32m     13\u001b[0m \u001b[0;34m\u001b[0m\u001b[0m\n\u001b[1;32m     14\u001b[0m \u001b[0;31m# Content dependencies (also reproduced inline).\u001b[0m\u001b[0;34m\u001b[0m\u001b[0;34m\u001b[0m\u001b[0m\n\u001b[0;32m---> 15\u001b[0;31m \u001b[0;32mfrom\u001b[0m \u001b[0mnumpy\u001b[0m \u001b[0;32mimport\u001b[0m \u001b[0mnp\u001b[0m\u001b[0;34m\u001b[0m\u001b[0m\n\u001b[0m\u001b[1;32m     16\u001b[0m \u001b[0;32mfrom\u001b[0m \u001b[0mrandom\u001b[0m \u001b[0;32mimport\u001b[0m \u001b[0mrandint\u001b[0m\u001b[0;34m\u001b[0m\u001b[0m\n\u001b[1;32m     17\u001b[0m \u001b[0;32mfrom\u001b[0m \u001b[0mitertools\u001b[0m \u001b[0;32mimport\u001b[0m \u001b[0mpermutations\u001b[0m\u001b[0;34m\u001b[0m\u001b[0m\n",
      "\u001b[0;31mImportError\u001b[0m: cannot import name 'np'"
     ]
    }
   ],
   "source": [
    "# Presentation dependencies.\n",
    "%matplotlib inline\n",
    "%config InlineBackend.figure_format='retina'\n",
    "import matplotlib as mp\n",
    "import matplotlib.pyplot as plt\n",
    "from importlib import reload\n",
    "from IPython.display import Image\n",
    "from IPython.display import display_html\n",
    "from IPython.display import display\n",
    "from IPython.display import Math\n",
    "from IPython.display import Latex\n",
    "from IPython.display import HTML\n",
    "\n",
    "# Content dependencies (also reproduced inline).\n",
    "from numpy import np\n",
    "from random import randint\n",
    "from itertools import permutations\n",
    "from functools import reduce\n",
    "from tqdm import tqdm"
   ]
  },
  {
   "cell_type": "markdown",
   "metadata": {
    "slideshow": {
     "slide_type": "slide"
    }
   },
   "source": [
    "## Motivation: TensorFlow Example"
   ]
  },
  {
   "cell_type": "code",
   "execution_count": 260,
   "metadata": {
    "slideshow": {
     "slide_type": "fragment"
    }
   },
   "outputs": [
    {
     "name": "stdout",
     "output_type": "stream",
     "text": [
      "tf.Tensor([1 2 3 4], shape=(4,), dtype=int32)\n",
      "tf.Tensor([ 6  8 10 12], shape=(4,), dtype=int32)\n",
      "tf.Tensor([ 5 12 21 32], shape=(4,), dtype=int32)\n",
      "tf.Tensor([10 12 14 16], shape=(4,), dtype=int32)\n"
     ]
    }
   ],
   "source": [
    "import tensorflow as tf\n",
    "\n",
    "# Initialize two constants.\n",
    "x1 = tf.constant([1,2,3,4])\n",
    "x2 = tf.constant([5,6,7,8])\n",
    "\n",
    "print(x1)\n",
    "print(x1 + x2) # returns: tf.Tensor([4 6], shape=(2,), dtype=int32)\n",
    "print(x1 * x2)\n",
    "print(2 * x2)\n",
    "\n",
    "\n",
    "#mnist = tf.keras.datasets.mnist\n",
    "\n",
    "#(x_train, y_train), (x_test, y_test) = mnist.load_data()\n",
    "#x_train, x_test = x_train / 255.0, x_test / 255.0\n",
    "\n",
    "\n",
    "\n",
    "\n",
    "\n",
    "# Intialize the Session.\n",
    "#sess = tf.Session()\n",
    "\n",
    "# Print the result.\n",
    "#print(sess.run(result))\n",
    "\n",
    "# Close the session.\n",
    "#sess.close()"
   ]
  },
  {
   "cell_type": "code",
   "execution_count": 261,
   "metadata": {
    "slideshow": {
     "slide_type": "fragment"
    }
   },
   "outputs": [
    {
     "name": "stdout",
     "output_type": "stream",
     "text": [
      "Train on 60000 samples\n",
      "Epoch 1/2\n",
      "60000/60000 [==============================] - 7s 117us/sample - loss: 0.2931 - accuracy: 0.9155\n",
      "Epoch 2/2\n",
      "60000/60000 [==============================] - 5s 90us/sample - loss: 0.1423 - accuracy: 0.9575\n",
      "10000/10000 [==============================] - 1s 59us/sample - loss: 0.0967 - accuracy: 0.9707\n"
     ]
    },
    {
     "data": {
      "text/plain": [
       "[0.09666207031048835, 0.9707]"
      ]
     },
     "execution_count": 261,
     "metadata": {},
     "output_type": "execute_result"
    }
   ],
   "source": [
    "from __future__ import absolute_import, division, print_function, unicode_literals\n",
    "\n",
    "mnist = tf.keras.datasets.mnist\n",
    "\n",
    "((x_train, y_train), (x_test, y_test)) = mnist.load_data()\n",
    "(x_train, x_test) = (x_train / 255.0, x_test / 255.0)\n",
    "\n",
    "model = tf.keras.models.Sequential([\n",
    "  tf.keras.layers.Flatten(input_shape=(28, 28)),\n",
    "  tf.keras.layers.Dense(128, activation='relu'),\n",
    "  tf.keras.layers.Dropout(0.2),\n",
    "  tf.keras.layers.Dense(10, activation='softmax')\n",
    "])\n",
    "\n",
    "model.compile(\n",
    "    optimizer='adam',\n",
    "    loss='sparse_categorical_crossentropy',\n",
    "    metrics=['accuracy']\n",
    "  )\n",
    "\n",
    "model.fit(x_train, y_train, epochs=2)\n",
    "\n",
    "model.evaluate(x_test, y_test)"
   ]
  },
  {
   "cell_type": "markdown",
   "metadata": {
    "slideshow": {
     "slide_type": "slide"
    }
   },
   "source": [
    "## Typing in Python"
   ]
  },
  {
   "cell_type": "markdown",
   "metadata": {
    "slideshow": {
     "slide_type": "fragment"
    }
   },
   "source": [
    "More information on the `typing` module can be found in the [documentation page](https://docs.python.org/3/library/typing.html). Note that there are no native, default, or \"official\" features for performing type checking on Python code."
   ]
  },
  {
   "cell_type": "code",
   "execution_count": 243,
   "metadata": {
    "slideshow": {
     "slide_type": "fragment"
    }
   },
   "outputs": [
    {
     "name": "stdout",
     "output_type": "stream",
     "text": [
      "abcabc\n",
      "A type error occurred.\n"
     ]
    }
   ],
   "source": [
    "# The typing module is included by default in Python 3.5 and higher.\n",
    "\n",
    "def f(x: int) -> int:\n",
    "    return x + x\n",
    "\n",
    "print(f('abc')) # No actual static or dynamic checking."
   ]
  },
  {
   "cell_type": "markdown",
   "metadata": {
    "slideshow": {
     "slide_type": "fragment"
    }
   },
   "source": [
    "The [mypy library](http://www.mypy-lang.org/) can annotate Python code with types, type-check a program statically (without running it), or introduce dynamic (i.e., at runtime) type checking."
   ]
  },
  {
   "cell_type": "markdown",
   "metadata": {
    "slideshow": {
     "slide_type": "fragment"
    }
   },
   "source": [
    "Other community members have written libraries to perform type checking (such as [enforce](https://github.com/RussBaz/enforce)), but none are \"official\" and some appear to be dormant as of 2019."
   ]
  },
  {
   "cell_type": "code",
   "execution_count": 244,
   "metadata": {
    "slideshow": {
     "slide_type": "fragment"
    }
   },
   "outputs": [
    {
     "name": "stdout",
     "output_type": "stream",
     "text": [
      "A type error occurred.\n"
     ]
    }
   ],
   "source": [
    "from enforce import runtime_validation\n",
    "\n",
    "@runtime_validation\n",
    "def g(x: int) -> int:\n",
    "    return 2 * x\n",
    "\n",
    "try:\n",
    "    g('abc')\n",
    "except:\n",
    "    print(\"A type error occurred.\")"
   ]
  },
  {
   "cell_type": "markdown",
   "metadata": {
    "slideshow": {
     "slide_type": "fragment"
    }
   },
   "source": [
    "We present some additional examples below."
   ]
  },
  {
   "cell_type": "code",
   "execution_count": 245,
   "metadata": {
    "slideshow": {
     "slide_type": "fragment"
    }
   },
   "outputs": [
    {
     "name": "stdout",
     "output_type": "stream",
     "text": [
      "xyzxyzxyz\n"
     ]
    }
   ],
   "source": [
    "from typing import Dict, Tuple, Sequence\n",
    "\n",
    "def repeat(si: Tuple[str, int]) -> str:\n",
    "    (s, i) = si\n",
    "    return s * i\n",
    "\n",
    "print(repeat(('xyz', 3)))"
   ]
  },
  {
   "cell_type": "code",
   "execution_count": 250,
   "metadata": {
    "slideshow": {
     "slide_type": "fragment"
    }
   },
   "outputs": [
    {
     "name": "stdout",
     "output_type": "stream",
     "text": [
      "True\n",
      "False\n",
      "False\n"
     ]
    }
   ],
   "source": [
    "from typing import NewType\n",
    "\n",
    "UserName = NewType('UserName', str)\n",
    "\n",
    "def confirm(s: UserName) -> bool:\n",
    "    return s == 'Alice'\n",
    "\n",
    "print(confirm('Alice'))\n",
    "print(confirm('Bob'))\n",
    "print(confirm(123)) # No type checking by default."
   ]
  },
  {
   "cell_type": "markdown",
   "metadata": {
    "slideshow": {
     "slide_type": "slide"
    }
   },
   "source": [
    "## Monads"
   ]
  },
  {
   "cell_type": "markdown",
   "metadata": {
    "slideshow": {
     "slide_type": "fragment"
    }
   },
   "source": [
    "Monads are a way to organize modular software components that can be composed with one another like functions. The criteria for composing two components is that their types must match."
   ]
  },
  {
   "cell_type": "markdown",
   "metadata": {
    "slideshow": {
     "slide_type": "slide"
    }
   },
   "source": [
    "### State Monad for Logging"
   ]
  },
  {
   "cell_type": "markdown",
   "metadata": {
    "slideshow": {
     "slide_type": "fragment"
    }
   },
   "source": [
    "While it is not normally necessary to maintain state explicitly in a functional way in an imperative language like Python, it *can* be useful when writing multithreaded or distributed code. The state monad pattern is one way to deal with maintaining side effects (i.e., input streams, output streams, and so on)."
   ]
  },
  {
   "cell_type": "code",
   "execution_count": 219,
   "metadata": {
    "slideshow": {
     "slide_type": "fragment"
    }
   },
   "outputs": [
    {
     "name": "stdout",
     "output_type": "stream",
     "text": [
      "abcabc\n",
      "xyzxyzxyz\n",
      "False\n",
      "False\n"
     ]
    },
    {
     "data": {
      "text/plain": [
       "[125]"
      ]
     },
     "execution_count": 219,
     "metadata": {},
     "output_type": "execute_result"
    }
   ],
   "source": [
    "from typing import Union, Callable, TypeVar\n",
    "\n",
    "Log = NewType('Log', Sequence[str])\n",
    "\n",
    "def divide_by_ten(n: int) -> Tuple[int, Log]:\n",
    "    return (n // 10, [\"Evaluated `divide_by_ten`.\"])\n",
    "\n",
    "def add_two(n: int) -> int:\n",
    "    return n + 2\n",
    "\n",
    "# add_two(divide_by_ten(100)) # Error.\n",
    "\n",
    "\n",
    "\n",
    "S = TypeVar('S')\n",
    "T = TypeVar('T')\n",
    "\n",
    "def lift(f: Callable[[S], T]) -> Callable[[Tuple[S, Log]], Tuple[T, Log]]:\n",
    "    \n",
    "    def lifted_f(x_log: Tuple[S, Log]) -> Tuple[T, Log]:\n",
    "        (x, log) = x_log\n",
    "        return (f(x), log)\n",
    "\n",
    "    return lifted_f\n",
    "\n",
    "def join(x_log_log: Tuple[Tuple[S, Log], Log]) -> Tuple[S, Log]:\n",
    "    ((x, log1), log2) = x_log_log\n",
    "    return (x, log1 + log2)\n",
    "\n",
    "def intro(x: S) -> Tuple[S, Log]:\n",
    "    return (x, [])\n",
    "\n",
    "a: Tuple[int, Log] = intro(100)\n",
    "b: Tuple[Tuple[int, Log], Log] = (lift(divide_by_ten))(a)\n",
    "c: Tuple[int, Log] = join(b)\n",
    "d: Tuple[int, Log] = (lift(add_two))(c)\n",
    "d"
   ]
  },
  {
   "cell_type": "markdown",
   "metadata": {
    "slideshow": {
     "slide_type": "slide"
    }
   },
   "source": [
    "### Sequence/List Monad for Data Processing"
   ]
  },
  {
   "cell_type": "markdown",
   "metadata": {
    "slideshow": {
     "slide_type": "fragment"
    }
   },
   "source": [
    "The MapReduce paradigm actually corresponds to a sequence or list monad pattern."
   ]
  },
  {
   "cell_type": "code",
   "execution_count": 254,
   "metadata": {
    "slideshow": {
     "slide_type": "fragment"
    }
   },
   "outputs": [
    {
     "data": {
      "text/plain": [
       "[125]"
      ]
     },
     "execution_count": 254,
     "metadata": {},
     "output_type": "execute_result"
    }
   ],
   "source": [
    "# This is exactly the built-in map function.\n",
    "def lift(f: Callable[[S], T]) -> Callable[[Sequence[S]], Sequence[T]]:\n",
    "    \n",
    "    def lifted_f(xs: Sequence[S]) -> Sequence[T]:\n",
    "        return [f(x) for x in xs]\n",
    "\n",
    "    return lifted_f\n",
    "\n",
    "# This is the flatten function for nested lists.\n",
    "# Note its relationship to the reduce function.\n",
    "def join(xss: Sequence[Sequence[S]]) -> Sequence[S]:\n",
    "    return [x for xs in xss for x in xs]\n",
    "\n",
    "# Notice the relationship of this function to map.\n",
    "def intro(x: S) -> Sequence[S]:\n",
    "    return [x]\n",
    "\n",
    "a: Sequence[int] = intro(123)\n",
    "b: Sequence[int] = (lift(add_two))(a)\n",
    "b"
   ]
  },
  {
   "cell_type": "markdown",
   "metadata": {
    "slideshow": {
     "slide_type": "slide"
    }
   },
   "source": [
    "## Operator Overloading in Python"
   ]
  },
  {
   "cell_type": "markdown",
   "metadata": {
    "slideshow": {
     "slide_type": "fragment"
    }
   },
   "source": [
    "Python supports operator overloading, as well as overloading of common syntactic constructs (such as function application and indexing)."
   ]
  },
  {
   "cell_type": "code",
   "execution_count": 274,
   "metadata": {
    "slideshow": {
     "slide_type": "fragment"
    }
   },
   "outputs": [
    {
     "name": "stdout",
     "output_type": "stream",
     "text": [
      "('Giraffe', 'Zebra', 'Giraffe')\n",
      "True\n",
      "True\n",
      "False\n",
      "('Giraffe', 'Lion')\n"
     ]
    }
   ],
   "source": [
    "class Zoo():\n",
    "    def __init__(self, *animals):\n",
    "        self.animals = animals\n",
    "    \n",
    "    def __add__(self, other):\n",
    "        return Zoo(*(self.animals + other.animals))\n",
    "\n",
    "    def __lt__(self, other):\n",
    "        return set(self.animals).issubset(set(other.animals))\n",
    "\n",
    "    def __getitem__(self, animal):\n",
    "        return animal in self.animals\n",
    "\n",
    "    def __call__(self, animal):\n",
    "        self.animals += tuple([animal])\n",
    "\n",
    "    def __len__(self):\n",
    "        return len(self.animals)\n",
    "    \n",
    "    def __str__(self):\n",
    "        return str(self.animals)\n",
    "\n",
    "    def __repr__(self):\n",
    "        return str(self)\n",
    "    \n",
    "z1 = Zoo(\"Giraffe\")\n",
    "z2 = Zoo(\"Zebra\", \"Giraffe\")\n",
    "print(z1 + z2)\n",
    "print(z1 < z2)\n",
    "print(z1[\"Giraffe\"])\n",
    "print(z1[\"Zebra\"])\n",
    "z1(\"Lion\")\n",
    "print(z1)"
   ]
  },
  {
   "cell_type": "markdown",
   "metadata": {
    "slideshow": {
     "slide_type": "slide"
    }
   },
   "source": [
    "## Embedding a Language for Arithmetic Functions"
   ]
  },
  {
   "cell_type": "markdown",
   "metadata": {
    "slideshow": {
     "slide_type": "fragment"
    }
   },
   "source": [
    "We embed a simple language for integer data flows in Python."
   ]
  },
  {
   "cell_type": "code",
   "execution_count": 230,
   "metadata": {
    "slideshow": {
     "slide_type": "fragment"
    }
   },
   "outputs": [
    {
     "name": "stdout",
     "output_type": "stream",
     "text": [
      "Sum(Sum(Var('X'), Var('Y')), Var('Y'))\n"
     ]
    },
    {
     "data": {
      "text/plain": [
       "88"
      ]
     },
     "execution_count": 230,
     "metadata": {},
     "output_type": "execute_result"
    }
   ],
   "source": [
    "class Var():\n",
    "    def __init__(self, name):\n",
    "        self.name = name\n",
    "\n",
    "    def send(self, inputs):\n",
    "        return inputs[self.name]\n",
    "\n",
    "    def __repr__(self):\n",
    "        return \"Var('\" + str(self.name) + \"')\"\n",
    "\n",
    "class Sum():\n",
    "    def __init__(self, *args):\n",
    "        self.args = args\n",
    "\n",
    "    def send(self, inputs):\n",
    "        return sum([arg.send(inputs) for arg in self.args])\n",
    "    \n",
    "    def __repr__(self):\n",
    "        return \"Sum(\" + (\", \".join([str(arg) for arg in self.args])) + \")\"\n",
    "\n",
    "X = Var(\"X\")\n",
    "Y = Var(\"Y\")\n",
    "\n",
    "s = Sum(Sum(X, Y), Y)\n",
    "\n",
    "print(s)\n",
    "s.send({\"X\":22, \"Y\":33})"
   ]
  },
  {
   "cell_type": "markdown",
   "metadata": {
    "slideshow": {
     "slide_type": "fragment"
    }
   },
   "source": [
    "We expand our example so that we can use arithmetic operator overloading to make our syntax more compact."
   ]
  },
  {
   "cell_type": "code",
   "execution_count": 258,
   "metadata": {
    "slideshow": {
     "slide_type": "fragment"
    }
   },
   "outputs": [],
   "source": [
    "class Expr():\n",
    "    def __add__(self, other):\n",
    "        return Sum(self, other)\n",
    "    \n",
    "    def __mul__(self, other):\n",
    "        return Prod(self, other)\n",
    "    \n",
    "    def __str__(self):\n",
    "        return self.__repr__()\n",
    "\n",
    "class Const(Expr):\n",
    "    def __init__(self, constant):\n",
    "        self.constant = constant\n",
    "    \n",
    "    def send(self, inputs):\n",
    "        return self.constant\n",
    "    \n",
    "    def __repr__(self):\n",
    "        return \"Const(\" + str(self.constant) + \")\"\n",
    "\n",
    "class Var(Expr):\n",
    "    def __init__(self, name):\n",
    "        self.name = name\n",
    "    \n",
    "    def send(self, inputs):\n",
    "        return inputs[self.name]\n",
    "    \n",
    "    def __repr__(self):\n",
    "        return \"Var('\" + str(self.name) + \"')\"\n",
    "\n",
    "class Sum(Expr):\n",
    "    def __init__(self, *args):\n",
    "        self.args = args\n",
    "\n",
    "    def send(self, inputs):\n",
    "        return sum([arg.send(inputs) for arg in self.args])\n",
    "    \n",
    "    def __repr__(self):\n",
    "        return \"Sum(\" + (\", \".join([str(arg) for arg in self.args])) + \")\"\n",
    "\n",
    "class Fun(Expr):\n",
    "    def __init__(self, name, function):\n",
    "        self.name = name\n",
    "        self.function = function\n",
    "        self.args = None\n",
    "\n",
    "    def __call__(self, *args):\n",
    "        self.args = args\n",
    "        return self\n",
    "\n",
    "    def send(self, inputs):\n",
    "        return self.function([arg.send(inputs) for arg in self.args])\n",
    "    \n",
    "    def __repr__(self):\n",
    "        return self.name + \"(\" + (\", \".join([str(arg) for arg in self.args])) + \")\"\n",
    "\n",
    "from functools import reduce\n",
    "def prod(xs):\n",
    "    return reduce(lambda x, y: x*y, xs)\n",
    "\n",
    "X = Var(\"X\")\n",
    "Y = Var(\"Y\")\n",
    "Prod = Fun(\"Prod\", prod)\n",
    "\n",
    "s = Sum(Sum(X, Y), Y, Const(2))\n",
    "p = Prod(X, Y, Const(2))\n",
    "\n",
    "s.send({\"X\":22, \"Y\":33})\n",
    "p.send({\"X\":2, \"Y\":3})\n",
    "s\n",
    "\n",
    "f = Sum(Prod(Var('K'), Var('X')), Var('C'))\n",
    "f = (Var('K') * Var('X')) + Var('C')"
   ]
  },
  {
   "cell_type": "markdown",
   "metadata": {
    "slideshow": {
     "slide_type": "fragment"
    }
   },
   "source": [
    "We expand our example so that the data structure represents flows of *ranges* of integers (rather than individual ones)."
   ]
  },
  {
   "cell_type": "code",
   "execution_count": 257,
   "metadata": {
    "slideshow": {
     "slide_type": "fragment"
    }
   },
   "outputs": [
    {
     "data": {
      "text/plain": [
       "[2,\n",
       " 3,\n",
       " 4,\n",
       " 3,\n",
       " 4,\n",
       " 5,\n",
       " 4,\n",
       " 5,\n",
       " 6,\n",
       " 3,\n",
       " 4,\n",
       " 5,\n",
       " 5,\n",
       " 6,\n",
       " 7,\n",
       " 7,\n",
       " 8,\n",
       " 9,\n",
       " 4,\n",
       " 5,\n",
       " 6,\n",
       " 7,\n",
       " 8,\n",
       " 9,\n",
       " 10,\n",
       " 11,\n",
       " 12]"
      ]
     },
     "execution_count": 257,
     "metadata": {},
     "output_type": "execute_result"
    }
   ],
   "source": [
    "from itertools import product\n",
    "\n",
    "class Expr():\n",
    "    def __add__(self, other):\n",
    "        return Sum(self, other)\n",
    "    \n",
    "    def __mul__(self, other):\n",
    "        return Prod(self, other)\n",
    "    \n",
    "    def __str__(self):\n",
    "        return self.__repr__()\n",
    "\n",
    "    def __call__(self, inputs):\n",
    "        return self.send(inputs)\n",
    "\n",
    "class Const(Expr):\n",
    "    def __init__(self, constant):\n",
    "        self.inputs = {}\n",
    "        self.constant = constant\n",
    "    \n",
    "    def send(self, inputs):\n",
    "        return [self.constant]\n",
    "    \n",
    "    def __call__(self, inputs):\n",
    "        return self.send(inputs)\n",
    "    \n",
    "    def __repr__(self):\n",
    "        return \"Const(\" + str(self.constant) + \")\"\n",
    "\n",
    "class Var(Expr):\n",
    "    def __init__(self, name):\n",
    "        self.inputs = {}\n",
    "        self.name = name\n",
    "    \n",
    "    def send(self, inputs):\n",
    "        return inputs[self.name]\n",
    "    \n",
    "    def __call__(self, inputs):\n",
    "        return self.send(inputs)\n",
    "    \n",
    "    def __repr__(self):\n",
    "        return \"Var('\" + str(self.name) + \"')\"\n",
    "\n",
    "class Sum(Expr):\n",
    "    def __init__(self, *args):\n",
    "        self.inputs = {}\n",
    "        self.args = args\n",
    "\n",
    "    def send(self, inputs):\n",
    "        list_of_arg_ranges = [arg.send(inputs) for arg in self.args]\n",
    "        list_of_arg_combos = list(product(*list_of_arg_ranges))\n",
    "        return [sum(c) for c in list_of_arg_combos]\n",
    "    \n",
    "    def __call__(self, inputs):\n",
    "        return self.send(inputs)\n",
    "    \n",
    "    def __repr__(self):\n",
    "        return \"Sum(\" + (\", \".join([str(arg) for arg in self.args])) + \")\"\n",
    "\n",
    "class Fun(Expr):\n",
    "    def __init__(self, name, function):\n",
    "        self.inputs = {}\n",
    "        self.name = name\n",
    "        self.function = function\n",
    "        self.args = None\n",
    "\n",
    "    def send(self, inputs):\n",
    "        list_of_arg_ranges = [arg.send(inputs) for arg in self.args]\n",
    "        list_of_arg_combos = list(product(*list_of_arg_ranges))\n",
    "        return [self.function(c) for c in list_of_arg_combos]\n",
    "\n",
    "    def __call__(self, *args):\n",
    "        if self.args is None:\n",
    "            self.args = args\n",
    "            return self\n",
    "        else:\n",
    "            return self.send(args)\n",
    "\n",
    "    def __repr__(self):\n",
    "        return self.name + \"(\" + (\", \".join([str(arg) for arg in self.args])) + \")\"\n",
    "\n",
    "    \n",
    "Flow = NewType('Flow', Callable[[Dict[str, int]], int])\n",
    "\n",
    "# Const: int -> Callable[[Dict[str, int]], int]\n",
    "C: Flow = Const(123)\n",
    "\n",
    "# Var: str -> Callable[[Dict[str, int]], int]\n",
    "V: Flow = Var(\"V\")\n",
    "\n",
    "# Sum: Sequence[Callable[[Dict[str, int]], int]] -> Callable[[Dict[str, int]], int]\n",
    "# Sum: Sequence[Flow] -> Flow\n",
    "\n",
    "# Fun: Callable[[int], int] -> (\n",
    "#         Sequence[Callable[[Dict[str, int]], int]]\n",
    "#         -> Callable[[Dict[str, int]], int]\n",
    "#      )\n",
    "#\n",
    "# Fun: Callable[[int], int] -> (Sequence[Flow] -> Flow)\n",
    "\n",
    "from functools import reduce\n",
    "def prod(xs):\n",
    "    return reduce(lambda x, y: x*y, xs)\n",
    "\n",
    "Prod = Fun(\"Prod\", prod)\n",
    "f = (Var('K') * Var('X')) + Var('C')\n",
    "f({'K':[1,2,3], 'X':[1,2,3], 'C':[1,2,3]})"
   ]
  },
  {
   "cell_type": "markdown",
   "metadata": {
    "slideshow": {
     "slide_type": "fragment"
    }
   },
   "source": [
    "We can use our data structure to build a small optimization example."
   ]
  },
  {
   "cell_type": "code",
   "execution_count": 256,
   "metadata": {
    "slideshow": {
     "slide_type": "fragment"
    }
   },
   "outputs": [
    {
     "data": {
      "text/plain": [
       "[({'K': [1], 'C': [1]}, 284),\n",
       " ({'K': [1], 'C': [2]}, 269),\n",
       " ({'K': [1], 'C': [3]}, 264),\n",
       " ({'K': [1], 'C': [4]}, 269),\n",
       " ({'K': [2], 'C': [1]}, 179),\n",
       " ({'K': [2], 'C': [2]}, 194),\n",
       " ({'K': [2], 'C': [3]}, 219),\n",
       " ({'K': [2], 'C': [4]}, 254),\n",
       " ({'K': [3], 'C': [1]}, 184),\n",
       " ({'K': [3], 'C': [2]}, 229),\n",
       " ({'K': [3], 'C': [3]}, 284),\n",
       " ({'K': [3], 'C': [4]}, 349),\n",
       " ({'K': [4], 'C': [1]}, 299),\n",
       " ({'K': [4], 'C': [2]}, 374),\n",
       " ({'K': [4], 'C': [3]}, 459),\n",
       " ({'K': [4], 'C': [4]}, 554)]"
      ]
     },
     "execution_count": 256,
     "metadata": {},
     "output_type": "execute_result"
    }
   ],
   "source": [
    "data = [(x, x*x - 5) for x in range(1,6)]\n",
    "(xs, ys) = zip(*data)\n",
    "\n",
    "R = range(1,5)\n",
    "models = [{'K':[k], 'C':[c]} for k in R for c in R]\n",
    "\n",
    "m_ys_s = [(m, f({**m, **{'X':xs}})) for m in models]\n",
    "\n",
    "def dist_sqr(v, w):\n",
    "    return sum([(vi - wi)**2 for (vi, wi) in zip(v, w)])\n",
    "\n",
    "m_err_s = [(m, dist_sqr(ys_, ys)) for (m,ys_) in m_ys_s]\n",
    "\n",
    "m_err_s"
   ]
  },
  {
   "cell_type": "markdown",
   "metadata": {
    "slideshow": {
     "slide_type": "fragment"
    }
   },
   "source": [
    "This is the end of the document."
   ]
  }
 ],
 "metadata": {
  "anaconda-cloud": {},
  "celltoolbar": "Slideshow",
  "kernelspec": {
   "display_name": "Python 3",
   "language": "python",
   "name": "python3"
  },
  "language_info": {
   "codemirror_mode": {
    "name": "ipython",
    "version": 3
   },
   "file_extension": ".py",
   "mimetype": "text/x-python",
   "name": "python",
   "nbconvert_exporter": "python",
   "pygments_lexer": "ipython3",
   "version": "3.6.4"
  },
  "livereveal": {
   "scroll": true
  }
 },
 "nbformat": 4,
 "nbformat_minor": 1
}
